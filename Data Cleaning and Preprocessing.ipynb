{
 "cells": [
  {
   "cell_type": "code",
   "execution_count": 1,
   "id": "c1eb50e8",
   "metadata": {},
   "outputs": [],
   "source": [
    "import pandas as pd\n",
    "import numpy as np\n",
    "import seaborn as sns"
   ]
  },
  {
   "cell_type": "code",
   "execution_count": 2,
   "id": "adad71a2",
   "metadata": {},
   "outputs": [
    {
     "name": "stderr",
     "output_type": "stream",
     "text": [
      "C:\\Users\\Sajal\\Anaconda3\\lib\\site-packages\\IPython\\core\\interactiveshell.py:3186: DtypeWarning: Columns (20,24,25,26,29) have mixed types. Specify dtype option on import or set low_memory=False.\n",
      "  interactivity=interactivity, compiler=compiler, result=result)\n"
     ]
    }
   ],
   "source": [
    "people = pd.read_csv('Traffic_Crashes_-_People.csv')\n",
    "crashes = pd.read_csv('Traffic_Crashes_-_Crashes.csv')\n",
    "\n",
    "people['CRASH_YEAR'] = people['CRASH_DATE'].apply(lambda x : int(x.split()[0].split('/')[-1])) \n",
    "\n",
    "crashes['CRASH_YEAR'] = crashes['CRASH_DATE'].apply(lambda x : int(x.split()[0].split('/')[-1])) \n",
    "\n",
    "crashes = crashes[crashes['CRASH_YEAR']==2021]\n",
    "\n",
    "people = people[people['CRASH_YEAR']==2021]"
   ]
  },
  {
   "cell_type": "markdown",
   "id": "3801af7b",
   "metadata": {},
   "source": [
    "## Deleting Columns with mostly missing data"
   ]
  },
  {
   "cell_type": "code",
   "execution_count": 3,
   "id": "d175e361",
   "metadata": {},
   "outputs": [],
   "source": [
    "def find_sparse_columns(df, threshold):\n",
    "    ans = []\n",
    "    for col in df.columns:\n",
    "        if df[col].isna().sum() > threshold:\n",
    "            ans.append(col)\n",
    "    return ans"
   ]
  },
  {
   "cell_type": "code",
   "execution_count": 4,
   "id": "dee68d1a",
   "metadata": {},
   "outputs": [
    {
     "data": {
      "text/plain": [
       "['SEAT_NO',\n",
       " 'DRIVERS_LICENSE_STATE',\n",
       " 'DRIVERS_LICENSE_CLASS',\n",
       " 'HOSPITAL',\n",
       " 'EMS_AGENCY',\n",
       " 'EMS_RUN_NO',\n",
       " 'PEDPEDAL_ACTION',\n",
       " 'PEDPEDAL_VISIBILITY',\n",
       " 'PEDPEDAL_LOCATION',\n",
       " 'BAC_RESULT VALUE',\n",
       " 'CELL_PHONE_USE']"
      ]
     },
     "execution_count": 4,
     "metadata": {},
     "output_type": "execute_result"
    }
   ],
   "source": [
    "find_sparse_columns(people, 100000)"
   ]
  },
  {
   "cell_type": "code",
   "execution_count": 5,
   "id": "28b531a1",
   "metadata": {},
   "outputs": [],
   "source": [
    "people.drop(find_sparse_columns(people, 100000), axis=1, inplace=True)"
   ]
  },
  {
   "cell_type": "code",
   "execution_count": 6,
   "id": "98bc1824",
   "metadata": {},
   "outputs": [
    {
     "data": {
      "text/plain": [
       "(108755, 50)"
      ]
     },
     "execution_count": 6,
     "metadata": {},
     "output_type": "execute_result"
    }
   ],
   "source": [
    "crashes.shape"
   ]
  },
  {
   "cell_type": "code",
   "execution_count": 7,
   "id": "f239ec56",
   "metadata": {},
   "outputs": [
    {
     "data": {
      "text/plain": [
       "['LANE_CNT',\n",
       " 'PHOTOS_TAKEN_I',\n",
       " 'STATEMENTS_TAKEN_I',\n",
       " 'DOORING_I',\n",
       " 'WORK_ZONE_I',\n",
       " 'WORK_ZONE_TYPE',\n",
       " 'WORKERS_PRESENT_I']"
      ]
     },
     "execution_count": 7,
     "metadata": {},
     "output_type": "execute_result"
    }
   ],
   "source": [
    "find_sparse_columns(crashes, 104000)"
   ]
  },
  {
   "cell_type": "code",
   "execution_count": 8,
   "id": "58136968",
   "metadata": {},
   "outputs": [
    {
     "data": {
      "text/plain": [
       "CRASH_RECORD_ID                       0\n",
       "RD_NO                                 0\n",
       "CRASH_DATE_EST_I                 100054\n",
       "CRASH_DATE                            0\n",
       "POSTED_SPEED_LIMIT                    0\n",
       "TRAFFIC_CONTROL_DEVICE                0\n",
       "DEVICE_CONDITION                      0\n",
       "WEATHER_CONDITION                     0\n",
       "LIGHTING_CONDITION                    0\n",
       "FIRST_CRASH_TYPE                      0\n",
       "TRAFFICWAY_TYPE                       0\n",
       "LANE_CNT                         108739\n",
       "ALIGNMENT                             0\n",
       "ROADWAY_SURFACE_COND                  0\n",
       "ROAD_DEFECT                           0\n",
       "REPORT_TYPE                        3375\n",
       "CRASH_TYPE                            0\n",
       "INTERSECTION_RELATED_I            83057\n",
       "NOT_RIGHT_OF_WAY_I               103533\n",
       "HIT_AND_RUN_I                     69928\n",
       "DAMAGE                                0\n",
       "DATE_POLICE_NOTIFIED                  0\n",
       "PRIM_CONTRIBUTORY_CAUSE               0\n",
       "SEC_CONTRIBUTORY_CAUSE                0\n",
       "STREET_NO                             0\n",
       "STREET_DIRECTION                      1\n",
       "STREET_NAME                           0\n",
       "BEAT_OF_OCCURRENCE                    0\n",
       "PHOTOS_TAKEN_I                   107538\n",
       "STATEMENTS_TAKEN_I               106504\n",
       "DOORING_I                        108448\n",
       "WORK_ZONE_I                      108249\n",
       "WORK_ZONE_TYPE                   108358\n",
       "WORKERS_PRESENT_I                108595\n",
       "NUM_UNITS                             0\n",
       "MOST_SEVERE_INJURY                  247\n",
       "INJURIES_TOTAL                      247\n",
       "INJURIES_FATAL                      247\n",
       "INJURIES_INCAPACITATING             247\n",
       "INJURIES_NON_INCAPACITATING         247\n",
       "INJURIES_REPORTED_NOT_EVIDENT       247\n",
       "INJURIES_NO_INDICATION              247\n",
       "INJURIES_UNKNOWN                    247\n",
       "CRASH_HOUR                            0\n",
       "CRASH_DAY_OF_WEEK                     0\n",
       "CRASH_MONTH                           0\n",
       "LATITUDE                            832\n",
       "LONGITUDE                           832\n",
       "LOCATION                            832\n",
       "CRASH_YEAR                            0\n",
       "dtype: int64"
      ]
     },
     "execution_count": 8,
     "metadata": {},
     "output_type": "execute_result"
    }
   ],
   "source": [
    "crashes.isna().sum()"
   ]
  },
  {
   "cell_type": "code",
   "execution_count": 9,
   "id": "6abad0f4",
   "metadata": {},
   "outputs": [],
   "source": [
    "crashes.drop(find_sparse_columns(crashes, 100000), axis=1, inplace=True)"
   ]
  },
  {
   "cell_type": "code",
   "execution_count": 10,
   "id": "6950abf9",
   "metadata": {},
   "outputs": [
    {
     "data": {
      "text/plain": [
       "(108755, 41)"
      ]
     },
     "execution_count": 10,
     "metadata": {},
     "output_type": "execute_result"
    }
   ],
   "source": [
    "crashes.shape"
   ]
  },
  {
   "cell_type": "code",
   "execution_count": 11,
   "id": "429dc985",
   "metadata": {},
   "outputs": [],
   "source": [
    "people.dropna(axis=0, inplace=True)\n",
    "crashes.dropna(axis=0, inplace=True)"
   ]
  },
  {
   "cell_type": "markdown",
   "id": "8ccca46a",
   "metadata": {},
   "source": []
  },
  {
   "cell_type": "markdown",
   "id": "9fec985c",
   "metadata": {},
   "source": [
    "## Function that will add a new column - time elaspsed since start of day"
   ]
  },
  {
   "cell_type": "code",
   "execution_count": 12,
   "id": "18c7b970",
   "metadata": {},
   "outputs": [],
   "source": [
    "def time_calc(s):\n",
    "    ans = 0\n",
    "    if s.split()[-1]=='AM':\n",
    "        if int(s.split()[1].split(':')[0]) != 12:\n",
    "            ans += 60*int(s.split()[1].split(':')[0]) + int(s.split()[1].split(':')[1])\n",
    "        else:\n",
    "            ans += int(s.split()[1].split(':')[1])\n",
    "    else:\n",
    "        ans += 12*60\n",
    "        if int(s.split()[1].split(':')[0]) == 12:\n",
    "            ans += int(s.split()[1].split(':')[1])\n",
    "        else:\n",
    "            ans += 60*int(s.split()[1].split(':')[0]) + int(s.split()[1].split(':')[1])\n",
    "    return ans"
   ]
  },
  {
   "cell_type": "markdown",
   "id": "554c4e63",
   "metadata": {},
   "source": [
    "## Merging the datasets"
   ]
  },
  {
   "cell_type": "code",
   "execution_count": 16,
   "id": "3f7913c9",
   "metadata": {},
   "outputs": [],
   "source": [
    "merge1 = pd.merge(people, crashes, on='CRASH_RECORD_ID', how='inner')\n",
    "\n",
    "merge1.shape\n",
    "\n",
    "merged_sample = merge1\n",
    "\n",
    "merged_sample.shape\n",
    "\n",
    "merge1['TIME'] = merge1['CRASH_DATE_x'].apply(time_calc)\n",
    "\n",
    "merge1['TIME'].describe()\n",
    "merge1 = merge1.sample(2500)\n",
    "\n",
    "merge1.to_csv('Traffic_Crashes_Medium2.csv', index=False)"
   ]
  }
 ],
 "metadata": {
  "kernelspec": {
   "display_name": "Python 3 (ipykernel)",
   "language": "python",
   "name": "python3"
  },
  "language_info": {
   "codemirror_mode": {
    "name": "ipython",
    "version": 3
   },
   "file_extension": ".py",
   "mimetype": "text/x-python",
   "name": "python",
   "nbconvert_exporter": "python",
   "pygments_lexer": "ipython3",
   "version": "3.7.4"
  }
 },
 "nbformat": 4,
 "nbformat_minor": 5
}
